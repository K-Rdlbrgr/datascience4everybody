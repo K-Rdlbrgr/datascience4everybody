{
 "cells": [
  {
   "cell_type": "markdown",
   "metadata": {},
   "source": [
    "# LECTURE 1 - Data Types and Variables"
   ]
  },
  {
   "cell_type": "markdown",
   "metadata": {},
   "source": [
    "**DATA TYPES**"
   ]
  },
  {
   "cell_type": "code",
   "execution_count": 2,
   "metadata": {
    "tags": []
   },
   "outputs": [
    {
     "output_type": "stream",
     "name": "stdout",
     "text": "<class 'int'>\n<class 'str'>\n<class 'list'>\n<class 'dict'>\n<class 'bool'>\n<class 'NoneType'>\n"
    }
   ],
   "source": [
    "# Printing out data types\n",
    "print(type(23))\n",
    "print(type('Hello World'))\n",
    "print(type(list(range(0,1))))\n",
    "print(type({'name': 'Ninochka'}))\n",
    "print(type(True))\n",
    "print(type(None))"
   ]
  },
  {
   "cell_type": "markdown",
   "metadata": {},
   "source": [
    "**VARIABLES**"
   ]
  },
  {
   "cell_type": "code",
   "execution_count": 5,
   "metadata": {
    "tags": []
   },
   "outputs": [
    {
     "output_type": "stream",
     "name": "stdout",
     "text": "By assignment the name is Ninochka\nAfter the reassignment the name is Kevinko\n"
    }
   ],
   "source": [
    "# Assignment\n",
    "name = 'Ninochka'\n",
    "print(f'By assignment the name is {name}')\n",
    "\n",
    "# Reassignment\n",
    "name = 'Kevinko'\n",
    "print(f'After the reassignment the name is {name}')"
   ]
  },
  {
   "cell_type": "code",
   "execution_count": 7,
   "metadata": {
    "tags": []
   },
   "outputs": [
    {
     "output_type": "stream",
     "name": "stdout",
     "text": "By assignment my age is 25\nAfter my birthday I will be 26\n"
    }
   ],
   "source": [
    "# Incremating\n",
    "age = 25\n",
    "print(f'By assignment my age is {age}')\n",
    "\n",
    "age += 1\n",
    "print(f'After my birthday I will be {age}')"
   ]
  },
  {
   "cell_type": "code",
   "execution_count": 17,
   "metadata": {
    "tags": []
   },
   "outputs": [
    {
     "output_type": "stream",
     "name": "stdout",
     "text": "My full name is Ninochka Vysná\nMy full name is Ninochka Vysná\n"
    }
   ],
   "source": [
    "# Concatenation\n",
    "first_name = 'Ninochka'\n",
    "last_name = 'Vysná'\n",
    "\n",
    "# Basic version\n",
    "full_name = first_name + ' ' + last_name\n",
    "print('My full name is ' + full_name)\n",
    "\n",
    "# Interpolation: Using advanced techniques with f-strings, we improve readability\n",
    "print(f'My full name is {first_name} {last_name}')"
   ]
  },
  {
   "cell_type": "code",
   "execution_count": 20,
   "metadata": {
    "tags": []
   },
   "outputs": [
    {
     "output_type": "stream",
     "name": "stdout",
     "text": "Initially the data type of 2020 is <class 'str'>\nAfter type casting the data type of 2020 is <class 'int'>\n"
    }
   ],
   "source": [
    "# Type Casting: Changing data types\n",
    "year = input('Which year do we have?')\n",
    "\n",
    "# Current Data type after input\n",
    "str_type = type(year)\n",
    "print(f'Initially the data type of {year} is {str_type}')\n",
    "\n",
    "# After type casting\n",
    "int_type = type(int(year))\n",
    "print(f'After type casting the data type of {year} is {int_type}')\n"
   ]
  },
  {
   "cell_type": "markdown",
   "metadata": {},
   "source": [
    "**OPERATORS**"
   ]
  },
  {
   "cell_type": "code",
   "execution_count": 21,
   "metadata": {},
   "outputs": [
    {
     "output_type": "execute_result",
     "data": {
      "text/plain": "8"
     },
     "metadata": {},
     "execution_count": 21
    }
   ],
   "source": [
    "1 + 2           # -> 3 (Addition)\n",
    "1 - 2           # -> -1 (Substraction)\n",
    "2 * 4           # -> 8 (Multiplication)\n",
    "5 / 2           # -> 2.5 (Division)\n",
    "5 // 2          # -> 2 (Floor Division)\n",
    "5 % 2           # -> 1 (Modulus)\n",
    "2 ** 3          # -> 8 (Exponent)"
   ]
  },
  {
   "cell_type": "markdown",
   "metadata": {},
   "source": [
    "**BUILT IN FUNCTIONS**"
   ]
  },
  {
   "cell_type": "code",
   "execution_count": null,
   "metadata": {},
   "outputs": [],
   "source": [
    "abs(-2)             # -> 2\n",
    "max(-2)             # -> 3\n",
    "min(-2)             # -> 2\n",
    "round(3.1415, 2)    # -> 3.14\n",
    "\n",
    "# More functions at https://docs.python.org/3/library/functions.html"
   ]
  },
  {
   "cell_type": "markdown",
   "metadata": {},
   "source": [
    "**PACKAGES AND LIBRARIES**"
   ]
  },
  {
   "cell_type": "code",
   "execution_count": 23,
   "metadata": {
    "tags": []
   },
   "outputs": [
    {
     "output_type": "stream",
     "name": "stdout",
     "text": "3\n4\n620448401733239439360000\n"
    }
   ],
   "source": [
    "# Importing libraries and packages to use their functionalities\n",
    "import math\n",
    "\n",
    "# Round down\n",
    "print(math.floor(3.99999))\n",
    "\n",
    "# Round up\n",
    "print(math.ceil(3.00001))\n",
    "\n",
    "# Factorial\n",
    "print(math.factorial(24))\n",
    "\n",
    "# More functions at https://docs.python.org/3/library/math.html"
   ]
  },
  {
   "cell_type": "code",
   "execution_count": 32,
   "metadata": {
    "tags": []
   },
   "outputs": [
    {
     "output_type": "stream",
     "name": "stdout",
     "text": "Initial format of today: 2020-07-10\nWay better format of today: Friday, July 10\n"
    }
   ],
   "source": [
    "# Same thing with dates\n",
    "import datetime\n",
    "\n",
    "today = datetime.date.today()\n",
    "print(f' Initial format of today: {today}')\n",
    "\n",
    "# Change formatting\n",
    "# We need to change to string because fromisoformat requests it (this seems a bit useless)\n",
    "today = str(today)\n",
    "nice_format = datetime.date.fromisoformat(today)\n",
    "\n",
    "# Personlalized format strig https://www.foragoodstrftime.com\n",
    "print(f'Way better format of today: {nice_format.strftime(\"%A, %B %d\")}')"
   ]
  },
  {
   "cell_type": "code",
   "execution_count": null,
   "metadata": {},
   "outputs": [],
   "source": []
  }
 ],
 "metadata": {
  "language_info": {
   "codemirror_mode": {
    "name": "ipython",
    "version": 3
   },
   "file_extension": ".py",
   "mimetype": "text/x-python",
   "name": "python",
   "nbconvert_exporter": "python",
   "pygments_lexer": "ipython3",
   "version": 3
  },
  "orig_nbformat": 2,
  "kernelspec": {
   "name": "python_defaultSpec_1594383420264",
   "display_name": "Python 3.8.3 64-bit"
  }
 },
 "nbformat": 4,
 "nbformat_minor": 2
}