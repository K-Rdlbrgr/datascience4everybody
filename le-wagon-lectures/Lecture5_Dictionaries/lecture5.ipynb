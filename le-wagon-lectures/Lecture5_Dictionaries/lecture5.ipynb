{
 "cells": [
  {
   "cell_type": "markdown",
   "metadata": {},
   "source": [
    "# LECTURE 5 - Dictionaries"
   ]
  },
  {
   "cell_type": "markdown",
   "metadata": {},
   "source": [
    "**DICTIONARIES**\n",
    "\n",
    "It's a way of storing elements with a key and value combination. You can see it as a relation between a keyword and its definition or value. THis makes storing values much more readable and accessable as in a list. Keys have to be unique. Multiple keys with the same name will return an error."
   ]
  },
  {
   "cell_type": "code",
   "execution_count": 2,
   "metadata": {
    "tags": []
   },
   "outputs": [
    {
     "output_type": "execute_result",
     "data": {
      "text/plain": "dict"
     },
     "metadata": {},
     "execution_count": 2
    }
   ],
   "source": [
    "# Syntax\n",
    "\n",
    "phonebook = {'john': 4019, 'paul': 4121}\n",
    "\n",
    "type(phonebook)"
   ]
  },
  {
   "cell_type": "markdown",
   "metadata": {
    "tags": []
   },
   "source": [
    "**Usually dictionaries contain values of the same type. But you can also vary the types.**"
   ]
  },
  {
   "cell_type": "code",
   "execution_count": 3,
   "metadata": {
    "tags": []
   },
   "outputs": [
    {
     "output_type": "stream",
     "name": "stdout",
     "text": "{'john': 4019, 'paul': [1234, 4212]}\n"
    }
   ],
   "source": [
    "# For example, we waybe want to store multiple values for a specific person\n",
    "phones = {\n",
    "    'john': 4019,\n",
    "    'paul': [1234, 4212]\n",
    "}\n",
    "\n",
    "print(phones)\n",
    "\n"
   ]
  },
  {
   "cell_type": "code",
   "execution_count": 8,
   "metadata": {
    "tags": []
   },
   "outputs": [
    {
     "output_type": "stream",
     "name": "stdout",
     "text": "4019\n"
    }
   ],
   "source": [
    "# READ\n",
    "\n",
    "# It works very similar to lists but instead of the index, we are using the key in the brackets\n",
    "print(phones['john'])"
   ]
  },
  {
   "cell_type": "code",
   "execution_count": 10,
   "metadata": {
    "tags": []
   },
   "outputs": [
    {
     "output_type": "stream",
     "name": "stdout",
     "text": "This is a default value in case the key is not part of the dictionary\n"
    }
   ],
   "source": [
    "# We can also use the get function to read a key. This is especially helpful if we don't know if the key is part of the dictionary. If we use get, Python will not raise an error, but wil return a pre-defined default value instead\n",
    "print(phones.get('george', 'This is a default value in case the key is not part of the dictionary'))"
   ]
  },
  {
   "cell_type": "code",
   "execution_count": 6,
   "metadata": {
    "tags": []
   },
   "outputs": [
    {
     "output_type": "stream",
     "name": "stdout",
     "text": "{'john': 4019, 'paul': [1234, 4212], 'ringo': 1010}\n{'john': 4019, 'paul': [1234, 4212], 'ringo': 1111}\n"
    }
   ],
   "source": [
    "# CREATE and UPDATE a list\n",
    "# Python recognizes that ringo is not in the dictionary yet, so it will create an entry for him\n",
    "phones['ringo'] = 1010\n",
    "\n",
    "print(phones)\n",
    "\n",
    "# If we do it again, Python finds the key and updates its value\n",
    "phones['ringo'] = 1111\n",
    "\n",
    "print(phones)\n"
   ]
  },
  {
   "cell_type": "code",
   "execution_count": 7,
   "metadata": {
    "tags": []
   },
   "outputs": [
    {
     "output_type": "stream",
     "name": "stdout",
     "text": "{'john': 4019, 'ringo': 1111}\n"
    }
   ],
   "source": [
    "# REMOVE\n",
    "\n",
    "del(phones['paul'])\n",
    "\n",
    "# Same syntax as in lists\n",
    "print(phones)"
   ]
  },
  {
   "cell_type": "markdown",
   "metadata": {},
   "source": [
    "**LOOPING THROUGH A DICTIONARY**"
   ]
  },
  {
   "cell_type": "code",
   "execution_count": 15,
   "metadata": {
    "tags": []
   },
   "outputs": [
    {
     "output_type": "stream",
     "name": "stdout",
     "text": "John has the following phone number: 4019\nRingo has the following phone number: 1111\n"
    }
   ],
   "source": [
    "# The syntax here is a bit different compared to lists. We are looping through the key and the values of a dictionary\n",
    "# Syntax: for key, value in dict.items()\n",
    "for name, number in phones.items():\n",
    "    print(f'{name.capitalize()} has the following phone number: {number}')"
   ]
  },
  {
   "cell_type": "markdown",
   "metadata": {},
   "source": [
    "**Inline Code**\n",
    "\n",
    "I think you should use an\n",
    "`<addr>` element here instead."
   ]
  },
  {
   "cell_type": "markdown",
   "metadata": {},
   "source": [
    "**Blockquotes**\n",
    "\n",
    "As Kanye West said:\n",
    "\n",
    "> We're living the future so\n",
    "> the present is our past."
   ]
  },
  {
   "cell_type": "markdown",
   "metadata": {},
   "source": [
    "**Images**\n",
    "\n",
    "![GitHub Logo](https://github.githubassets.com/images/modules/logos_page/GitHub-Mark.png)\n",
    "\n",
    "Format: ![Alt Text](url)"
   ]
  }
 ],
 "metadata": {
  "language_info": {
   "codemirror_mode": {
    "name": "ipython",
    "version": 3
   },
   "file_extension": ".py",
   "mimetype": "text/x-python",
   "name": "python",
   "nbconvert_exporter": "python",
   "pygments_lexer": "ipython3",
   "version": 3
  },
  "orig_nbformat": 2,
  "kernelspec": {
   "name": "python_defaultSpec_1595267246937",
   "display_name": "Python 3.8.3 64-bit"
  }
 },
 "nbformat": 4,
 "nbformat_minor": 2
}