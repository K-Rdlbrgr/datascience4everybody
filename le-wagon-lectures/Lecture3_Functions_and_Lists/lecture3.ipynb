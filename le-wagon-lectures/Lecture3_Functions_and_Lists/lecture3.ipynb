{
 "cells": [
  {
   "cell_type": "markdown",
   "metadata": {},
   "source": [
    "# LECTURE 3 - Functions and Lists"
   ]
  },
  {
   "cell_type": "markdown",
   "metadata": {},
   "source": [
    "**FUNCTIONS**\n",
    "\n",
    "Functions are perfect for refactoring. We want to minimize to work we do by reusing code we have already written. This, of course can only be used if we want to execute something multiple times within the program. As soo as you spot a functionality that appears multiple times in the program, it is advised to define a function.\n",
    "\n",
    "**DON'T REPEAT YOURSELF**"
   ]
  },
  {
   "cell_type": "code",
   "execution_count": null,
   "metadata": {},
   "outputs": [],
   "source": [
    "# Syntax of a function\n",
    "\n",
    "def function_name(parameter1, parameter2, parameter3 = 'DefaultValue'):\n",
    "\n",
    "    # Logic of the function\n",
    "\n",
    "    return \n",
    "\n",
    "# Calling a function\n",
    "# Be aware that a function needs as many arguments as it has parameters. The default parameters can also be passed in but in case there is no argument for a default parameter, it will use its default value\n",
    "function_name(argument1, argument2)"
   ]
  },
  {
   "cell_type": "code",
   "execution_count": 9,
   "metadata": {
    "tags": []
   },
   "outputs": [
    {
     "output_type": "stream",
     "name": "stdout",
     "text": "Hey, I am writing my first function!\n"
    },
    {
     "output_type": "execute_result",
     "data": {
      "text/plain": "'Hello kevin, Good day!'"
     },
     "metadata": {},
     "execution_count": 9
    }
   ],
   "source": [
    "# Define a function with the 'def' keyword, the name of the function and as many parameters if you want in the ()\n",
    "def greet(name):\n",
    "    # We are printing something from inside the function\n",
    "    print('Hey, I am writing my first function!')\n",
    "\n",
    "    # Here we assign a sentence which takes the parameter 'name'\n",
    "    sentence = f'Hello {name}, Good day!'\n",
    "\n",
    "    # Finally, we use the 'return' keyword to return the output of the function\n",
    "    return sentence\n",
    "\n",
    "# Calling the function to execute it\n",
    "greet('kevin')"
   ]
  },
  {
   "cell_type": "code",
   "execution_count": 8,
   "metadata": {
    "tags": []
   },
   "outputs": [
    {
     "output_type": "execute_result",
     "data": {
      "text/plain": "'Hello Kevin, Good day!'"
     },
     "metadata": {},
     "execution_count": 8
    }
   ],
   "source": [
    "# Additional functionality\n",
    "def greetCapitalize(name):\n",
    "    # Here we assign a sentence which takes the parameter 'name' and capitalize the name\n",
    "    sentence = f'Hello {name.capitalize()}, Good day!'\n",
    "\n",
    "    return sentence\n",
    "\n",
    "# Calling the function to execute it\n",
    "greetCapitalize('kevin')"
   ]
  },
  {
   "cell_type": "code",
   "execution_count": 13,
   "metadata": {
    "tags": []
   },
   "outputs": [],
   "source": [
    "# Another example\n",
    "\n",
    "# Let's define a function that tells us if we can go out based on our Covid-19 test\n",
    "def can_i_go_out(test):\n",
    "    # Was the user tested positively? To minimize error, we lower all characters.\n",
    "    if test.lower() == 'positive':\n",
    "        print('Stay at home')\n",
    "    # Was the user tested negatively? To minimize error, we lower all characters.\n",
    "    elif test.lower() == 'negative':\n",
    "        print('Good job! You can go out')\n",
    "    # Neither of the two? The user probably made a typo, so we ask the user again\n",
    "    else:\n",
    "        test = input('I think you made a typo. PLease tell me your test result again [positive, negative] :')\n",
    "\n",
    "# Asking the user for input\n",
    "test = input('Great! You did your Covid-19 test. What was the test result? [positive, negative] ')\n",
    "\n",
    "# Call the function with an argument\n",
    "can_i_go_out(test)"
   ]
  },
  {
   "cell_type": "code",
   "execution_count": 17,
   "metadata": {},
   "outputs": [
    {
     "output_type": "error",
     "ename": "NameError",
     "evalue": "name 'full_name' is not defined",
     "traceback": [
      "\u001b[0;31m---------------------------------------------------------------------------\u001b[0m",
      "\u001b[0;31mNameError\u001b[0m                                 Traceback (most recent call last)",
      "\u001b[0;32m<ipython-input-17-48a37246359f>\u001b[0m in \u001b[0;36m<module>\u001b[0;34m\u001b[0m\n\u001b[1;32m     11\u001b[0m \u001b[0;34m\u001b[0m\u001b[0m\n\u001b[1;32m     12\u001b[0m \u001b[0;31m# Calling the local variable full_name wil return an error though\u001b[0m\u001b[0;34m\u001b[0m\u001b[0;34m\u001b[0m\u001b[0;34m\u001b[0m\u001b[0m\n\u001b[0;32m---> 13\u001b[0;31m \u001b[0mprint\u001b[0m\u001b[0;34m(\u001b[0m\u001b[0mfull_name\u001b[0m\u001b[0;34m)\u001b[0m\u001b[0;34m\u001b[0m\u001b[0;34m\u001b[0m\u001b[0m\n\u001b[0m",
      "\u001b[0;31mNameError\u001b[0m: name 'full_name' is not defined"
     ]
    }
   ],
   "source": [
    "# Scope: a variable that is only defined within a function is not callable from outside of the function. It's therefore called a local variable\n",
    "def greet_again(first_name, last_name):\n",
    "    # We manipulate the names a little bit and put them together\n",
    "    full_name = first_name.capitalize() + ' ' + last_name.upper()\n",
    "\n",
    "    # Return the greeting\n",
    "    return f'Hello {full_name}'\n",
    "\n",
    "# Callling the function works perfectly\n",
    "greet_again('kevin', 'Riedlberger')\n",
    "\n",
    "# Calling the local variable full_name wil return an error though\n",
    "print(full_name)"
   ]
  },
  {
   "cell_type": "markdown",
   "metadata": {
    "tags": []
   },
   "source": [
    "**LISTS**\n",
    "\n",
    "A more advanced data type than our basics (strings, integers, etc.). A list or also called array is a compound type which can theoretically contain any data type at once. Usually it is filled with a large number of entries of the same data type. This is ideal to loop through it and perform a certain logic to it."
   ]
  },
  {
   "cell_type": "code",
   "execution_count": 33,
   "metadata": {
    "tags": []
   },
   "outputs": [
    {
     "output_type": "stream",
     "name": "stdout",
     "text": "['Lisbon', 'Berlin', 'London', 'Bratislava']\n"
    }
   ],
   "source": [
    "# Lists have indices for every entry which start with 0\n",
    "cities = ['Lisbon', 'Berlin', 'London', 'Bratislava']\n",
    "# index       0         1         2           3\n",
    "\n",
    "# The list looks like this\n",
    "print(cities)"
   ]
  },
  {
   "cell_type": "code",
   "execution_count": 39,
   "metadata": {
    "tags": []
   },
   "outputs": [
    {
     "output_type": "stream",
     "name": "stdout",
     "text": "Lisbon\nBerlin\nBratislava\n['Berlin']\n['Lisbon', 'London']\n['Bratislava', 'London', 'Berlin', 'Lisbon']\n"
    }
   ],
   "source": [
    "# READ: We can use those indices to access specific entries of a list\n",
    "print(cities[0])\n",
    "print(cities[1])\n",
    "\n",
    "# Maybe we want to read backwards\n",
    "print(cities[-1])\n",
    "\n",
    "# Or we want to read multiple entries (BE AWARE: as you see, the slicing end is exclusive, meaning 1:2 does contain index 1 but not 2)\n",
    "print(cities[1:2])\n",
    "\n",
    "# Or we wanna show every second entry\n",
    "print(cities[::2])\n",
    "\n",
    "# Or the whole list backwards\n",
    "print(cities[::-1])\n",
    "\n",
    "# Syntax is always the same\n",
    "# list_name[start_index:end_index:Number_of_steps]"
   ]
  },
  {
   "cell_type": "code",
   "execution_count": 40,
   "metadata": {
    "tags": []
   },
   "outputs": [
    {
     "output_type": "stream",
     "name": "stdout",
     "text": "['Lisbon', 'Vienna', 'Berlin', 'London', 'Bratislava', 'Paris']\n"
    }
   ],
   "source": [
    "# ADD: add a new entry to a list is done with the append function (this will add to the end)\n",
    "cities.append('Paris')\n",
    "# Or we can use insert (this will add the element to a specific index)\n",
    "cities.insert(1, 'Vienna')\n",
    "\n",
    "# Print cities\n",
    "print(cities)\n"
   ]
  },
  {
   "cell_type": "code",
   "execution_count": 41,
   "metadata": {
    "tags": []
   },
   "outputs": [
    {
     "output_type": "stream",
     "name": "stdout",
     "text": "['LISBON', 'Vienna', 'Berlin', 'London', 'Bratislava', 'Paris']\n"
    }
   ],
   "source": [
    "# UPDATE: Updating a specific value or a range with a new entry\n",
    "cities[0] = cities[0].upper()\n",
    "\n",
    "# Print cities\n",
    "print(cities)"
   ]
  },
  {
   "cell_type": "code",
   "execution_count": 42,
   "metadata": {
    "tags": []
   },
   "outputs": [
    {
     "output_type": "stream",
     "name": "stdout",
     "text": "['LISBON', 'Berlin', 'London', 'Bratislava', 'Paris']\n"
    }
   ],
   "source": [
    "# DELETE: Deleting on entry completely from the list\n",
    "del(cities[1])\n",
    "\n",
    "# Print cities\n",
    "print(cities)"
   ]
  },
  {
   "cell_type": "code",
   "execution_count": 31,
   "metadata": {
    "tags": []
   },
   "outputs": [
    {
     "output_type": "stream",
     "name": "stdout",
     "text": "The cities list has 5 entries\n"
    }
   ],
   "source": [
    "# SIZE: We can quickly calculate the number of entries to a list with the length function\n",
    "print(f'The cities list has {len(cities)} entries')"
   ]
  },
  {
   "cell_type": "code",
   "execution_count": 45,
   "metadata": {
    "tags": []
   },
   "outputs": [
    {
     "output_type": "stream",
     "name": "stdout",
     "text": "Lisbon !\nBerlin !\nLondon !\nBratislava !\nParis !\n"
    }
   ],
   "source": [
    "# List are working very well with loops\n",
    "\n",
    "for city in cities:\n",
    "    print(f'{city.capitalize()} !')"
   ]
  },
  {
   "cell_type": "markdown",
   "metadata": {},
   "source": [
    "**EXKURS**\n",
    "\n",
    "A very popular way of iterating through a list is the enumerate function which allows you to access every entry and its index of a list"
   ]
  },
  {
   "cell_type": "code",
   "execution_count": 48,
   "metadata": {
    "tags": []
   },
   "outputs": [
    {
     "output_type": "stream",
     "name": "stdout",
     "text": "City #1: Lisbon\nCity #2: Berlin\nCity #3: London\nCity #4: Bratislava\nCity #5: Paris\n"
    }
   ],
   "source": [
    "# Print every city and it's number in the list.abs\n",
    "for index, city in enumerate(cities):\n",
    "\n",
    "    # Since the indeces start with one, we have to add one while printing\n",
    "    print(f'City #{index+1}: {city.capitalize()}')"
   ]
  }
 ],
 "metadata": {
  "language_info": {
   "codemirror_mode": {
    "name": "ipython",
    "version": 3
   },
   "file_extension": ".py",
   "mimetype": "text/x-python",
   "name": "python",
   "nbconvert_exporter": "python",
   "pygments_lexer": "ipython3",
   "version": 3
  },
  "orig_nbformat": 2,
  "kernelspec": {
   "name": "python_defaultSpec_1594818337490",
   "display_name": "Python 3.8.3 64-bit"
  }
 },
 "nbformat": 4,
 "nbformat_minor": 2
}