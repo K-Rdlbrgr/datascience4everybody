{
 "cells": [
  {
   "cell_type": "markdown",
   "metadata": {},
   "source": [
    "# LECTURE 2 - Loops and Control Flow"
   ]
  },
  {
   "cell_type": "markdown",
   "metadata": {},
   "source": [
    "**FOR LOOPS**\n",
    "\n",
    "Interates over lists, strings and dictionaries in a predefined number of loops. It's best used when we know exactly how many times we have to loop."
   ]
  },
  {
   "cell_type": "code",
   "execution_count": 1,
   "metadata": {
    "tags": []
   },
   "outputs": [
    {
     "output_type": "stream",
     "name": "stdout",
     "text": "0\n1\n2\n3\n4\n"
    }
   ],
   "source": [
    "# Printing numbers in a range of numbers\n",
    "for i in range(0, 5):\n",
    "    print(i)"
   ]
  },
  {
   "cell_type": "code",
   "execution_count": 4,
   "metadata": {
    "tags": []
   },
   "outputs": [
    {
     "output_type": "stream",
     "name": "stdout",
     "text": "M\no\nn\nt\ny\n \nP\ny\nt\nh\no\nn\n"
    }
   ],
   "source": [
    "# Printing all letters within a string\n",
    "for letter in 'Monty Python':\n",
    "    print(letter)"
   ]
  },
  {
   "cell_type": "code",
   "execution_count": 5,
   "metadata": {
    "tags": []
   },
   "outputs": [
    {
     "output_type": "stream",
     "name": "stdout",
     "text": "Python\nJavaScript\nC\nPHP\nC++\nC#\nRuby\nJava\n"
    }
   ],
   "source": [
    "# Printing all entries of a list\n",
    "languages = ['Python', 'JavaScript', 'C', 'PHP', 'C++', 'C#', 'Ruby', 'Java']\n",
    "\n",
    "for language in languages:\n",
    "    print(language)"
   ]
  },
  {
   "cell_type": "markdown",
   "metadata": {
    "tags": []
   },
   "source": [
    "**WHILE LOOPS**\n",
    "\n",
    "While loops are preffered to use when we don't know how often we will have to loop thorough an object. For example until the user of the program wants to exit the loop himself or solves a puzzle which gets him to the next level, etc."
   ]
  },
  {
   "cell_type": "code",
   "execution_count": 19,
   "metadata": {
    "tags": []
   },
   "outputs": [
    {
     "output_type": "stream",
     "name": "stdout",
     "text": "The factorial of 1 is 1\nThe factorial of 2 is 2\nThe factorial of 3 is 6\nThe factorial of 4 is 24\nThe factorial of 5 is 120\nThe factorial of 6 is 720\nThe factorial of 7 is 5040\nThe factorial of 8 is 40320\nThe factorial of 9 is 362880\n"
    }
   ],
   "source": [
    "# Concatenation\n",
    "import math\n",
    "\n",
    "# We import time to slower the output of the function\n",
    "import time\n",
    "\n",
    "# Frst we need to set i to a starting value\n",
    "i = 1\n",
    "\n",
    "# In order to make it more practical, let's say the number of loops is defined y the user.\n",
    "# We also need to cast the data type since user input is always a string\n",
    "n = int(input('How many times do we wanna loop? '))\n",
    "\n",
    "# In case we don't increment n, it will loop forever\n",
    "while i < n:\n",
    "\n",
    "    # We print out the factorial\n",
    "    print(f'The factorial of {i} is {math.factorial(i)}')\n",
    "\n",
    "    # This is the code to slow down the function\n",
    "    time.sleep(1)\n",
    "\n",
    "    # We increment i by one to go to the next number\n",
    "    i += 1"
   ]
  },
  {
   "cell_type": "markdown",
   "metadata": {
    "tags": []
   },
   "source": [
    "**CONTROL FLOW**\n",
    "\n",
    "With the control flow, we are manipulating the way in which the code is getting executed.\n",
    "Basically, every program will run from top to bottom but we can manipulate this behaviour by implementing conditions or 'if statements' to only execute a specific code block if a condition is met.\n",
    "\n",
    "Generally you should always go from the most specific to the least specific to avoid wrong entries of conditions\n",
    "\n",
    "**PSEUDO CODE**\n",
    "\n",
    "Pseudo code should be written every time beforeyou actually code a function in the programming language. \n"
   ]
  },
  {
   "cell_type": "code",
   "execution_count": 17,
   "metadata": {
    "tags": []
   },
   "outputs": [
    {
     "output_type": "stream",
     "name": "stdout",
     "text": "You can vote\n"
    }
   ],
   "source": [
    "# Pseudo code for checking if someoe is eligable to vote\n",
    "\n",
    "# PSEUDOCODE\n",
    "# ask the user for it's age\n",
    "# IF the age is greater than 18\n",
    "#     display YOU CAN vote\n",
    "# ELSE\n",
    "#     display YOU CANNOT VOTE\n",
    "\n",
    "# Assigning the age variable\n",
    "age = 25\n",
    "\n",
    "# OR ask the user\n",
    "# age = int(input('How old are you? '))\n",
    "\n",
    "# Checking with an if statement what the ge is and give the user a response\n",
    "if age > 18:\n",
    "    print('You can vote')\n",
    "else:\n",
    "    print('You cannot vote')"
   ]
  },
  {
   "cell_type": "markdown",
   "metadata": {},
   "source": [
    "**BOOLEAN LOGIC WITH MULTIPLE CONDITIONS**\n",
    "\n",
    "You can also use multiple conditions for an if statement using the keywords 'and', 'or' and 'not'"
   ]
  },
  {
   "cell_type": "code",
   "execution_count": 18,
   "metadata": {
    "tags": []
   },
   "outputs": [
    {
     "output_type": "stream",
     "name": "stdout",
     "text": "Closed\n"
    }
   ],
   "source": [
    "# Shop schedule\n",
    "\n",
    "# PSEUDOCODE\n",
    "# ask the user for the current hour\n",
    "# IF hour between 9 and 12 or between 1 and 5\n",
    "#     display OPEN\n",
    "# ELSE\n",
    "#     display CLOSE\n",
    "\n",
    "# Assigning the current hour\n",
    "hour = 12\n",
    "\n",
    "# OR ask the user\n",
    "# hour = int(input('What is the current hour? '))\n",
    "\n",
    "# checking the current hour in regards of the opening hours and tell the user if the shop is open or not\n",
    "if (hour > 9 and hour < 12) or (hour > 13 and hour < 17):\n",
    "    print('Open')\n",
    "else:\n",
    "    print('Closed')\n"
   ]
  },
  {
   "cell_type": "code",
   "execution_count": 20,
   "metadata": {
    "tags": []
   },
   "outputs": [
    {
     "output_type": "stream",
     "name": "stdout",
     "text": "Good night\n"
    }
   ],
   "source": [
    "# PSEUDOCODE\n",
    "# assign the hour or ask the user for it\n",
    "# IF the hour is lower than 12\n",
    "#     display GOOD MORNING\n",
    "# IF the hour is greater than 12 but lower than 20\n",
    "#     display GOOD AFTERNOON\n",
    "# IF the hour is greater then 20\n",
    "#     display GOOD NIGHT\n",
    "# ELSE\n",
    "#   just display GOOD DAY\n",
    "\n",
    "# Assinging the current hour\n",
    "hour = 21\n",
    "\n",
    "# OR ask the user\n",
    "# hour = int(input('What is the current time? '))\n",
    "\n",
    "# Check every single condition in order to find out which greeting matches the current time and print it\n",
    "if (hour < 12):\n",
    "    print('Good morning')\n",
    "elif (hour <= 12) and (hour < 20):\n",
    "    print('Good afternoon')\n",
    "elif (hour >= 20):\n",
    "    print('Good night')\n",
    "else:\n",
    "    print('Good day')"
   ]
  }
 ],
 "metadata": {
  "language_info": {
   "codemirror_mode": {
    "name": "ipython",
    "version": 3
   },
   "file_extension": ".py",
   "mimetype": "text/x-python",
   "name": "python",
   "nbconvert_exporter": "python",
   "pygments_lexer": "ipython3",
   "version": 3
  },
  "orig_nbformat": 2,
  "kernelspec": {
   "name": "python_defaultSpec_1594639076475",
   "display_name": "Python 3.8.3 64-bit"
  }
 },
 "nbformat": 4,
 "nbformat_minor": 2
}