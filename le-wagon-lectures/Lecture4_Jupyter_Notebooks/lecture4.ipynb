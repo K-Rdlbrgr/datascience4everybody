{
 "cells": [
  {
   "cell_type": "markdown",
   "metadata": {},
   "source": [
    "# LECTURE 4 - Handling a Jupyter Notebook"
   ]
  },
  {
   "cell_type": "markdown",
   "metadata": {},
   "source": [
    "**JUPYTER NOTEBOKS**\n",
    "\n",
    "THe goal of a notebook is to explore the data and visualize it. It is also very handy in order to present it in front of manageres and Non-tech team member because you can still run code and adapt it but you also have markdown blocks which allows us to style text explaining the code and graphs."
   ]
  },
  {
   "cell_type": "code",
   "execution_count": 1,
   "metadata": {
    "tags": []
   },
   "outputs": [
    {
     "output_type": "stream",
     "name": "stdout",
     "text": "I can just be printed because it is a code block\n"
    }
   ],
   "source": [
    "# This is a code block\n",
    "\n",
    "print('I can just be printed because it is a code block')"
   ]
  },
  {
   "cell_type": "markdown",
   "metadata": {
    "tags": []
   },
   "source": [
    "## This is a markdown block\n",
    "\n",
    "**You can see that I can style the text differently**\n",
    "\n",
    "It's super easy using specific characters"
   ]
  },
  {
   "cell_type": "markdown",
   "metadata": {
    "tags": []
   },
   "source": [
    "## Primary Resources\n",
    "\n",
    "For learning Markdown, they provide a great tutorial on [GitHub](https://guides.github.com/features/mastering-markdown/) where they explain shortcuts and character in order to transform your explanatory comments in **ART**!\n",
    "\n",
    "### Numpy\n",
    "Fundamental package for scientific computing with Python: [Numpy](https://www.numpy.org)\n",
    "\n",
    "### Pandas\n",
    "Pandas is an open source library providing high-performance easy-to-use data structures and data analysis tools for Python: [Pandas](https://pandas.pydata.org)\n",
    "\n",
    "###\n",
    "\n"
   ]
  },
  {
   "cell_type": "markdown",
   "metadata": {},
   "source": [
    "## Some Examples\n"
   ]
  },
  {
   "cell_type": "markdown",
   "metadata": {},
   "source": [
    "**Tables**\n",
    "\n",
    "First Header | Second Header\n",
    "------------ | -------------\n",
    "Content from cell 1 | Content from cell 2\n",
    "Content in the first column | Content in the second column"
   ]
  },
  {
   "cell_type": "markdown",
   "metadata": {},
   "source": [
    "**Task Lists**\n",
    "\n",
    "- [x] @mentions, #refs, [links](), **formatting**, and <del>tags</del> supported\n",
    "- [x] list syntax required (any unordered or ordered list supported)\n",
    "- [x] this is a complete item\n",
    "- [ ] this is an incomplete item"
   ]
  },
  {
   "cell_type": "markdown",
   "metadata": {},
   "source": [
    "**Code BLocks**\n",
    "```\n",
    "def foo():\n",
    "    if not bar:\n",
    "        return True\n",
    "```"
   ]
  },
  {
   "cell_type": "markdown",
   "metadata": {},
   "source": [
    "**Inline Code**\n",
    "\n",
    "I think you should use an\n",
    "`<addr>` element here instead."
   ]
  },
  {
   "cell_type": "markdown",
   "metadata": {},
   "source": [
    "**Blockquotes**\n",
    "\n",
    "As Kanye West said:\n",
    "\n",
    "> We're living the future so\n",
    "> the present is our past."
   ]
  },
  {
   "cell_type": "markdown",
   "metadata": {},
   "source": [
    "**Images**\n",
    "\n",
    "![GitHub Logo](https://github.githubassets.com/images/modules/logos_page/GitHub-Mark.png)\n",
    "\n",
    "Format: ![Alt Text](url)"
   ]
  }
 ],
 "metadata": {
  "language_info": {
   "codemirror_mode": {
    "name": "ipython",
    "version": 3
   },
   "file_extension": ".py",
   "mimetype": "text/x-python",
   "name": "python",
   "nbconvert_exporter": "python",
   "pygments_lexer": "ipython3",
   "version": 3
  },
  "orig_nbformat": 2,
  "kernelspec": {
   "name": "python_defaultSpec_1595003211075",
   "display_name": "Python 3.8.3 64-bit"
  }
 },
 "nbformat": 4,
 "nbformat_minor": 2
}