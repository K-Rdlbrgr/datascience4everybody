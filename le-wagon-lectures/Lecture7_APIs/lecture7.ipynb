{
 "cells": [
  {
   "cell_type": "markdown",
   "metadata": {},
   "source": [
    "# LECTURE 7 - Data Sourcing with APIs\n",
    "\n",
    "___\n",
    "\n",
    "As a rule of thumb for Data Sourcing, you should get as close to the raw data as possible as a starting point for analysis. The data can be structures (csv, json, excel, SQl), unstructered (pdf, doc) or binary. If you want to get data online, you either find an accessible database or API, otherwise web scraping would also be a possibility."
   ]
  },
  {
   "cell_type": "markdown",
   "metadata": {},
   "source": [
    "\n",
    "**API (Application Program Interface)**\n",
    "\n",
    "---\n",
    "\n",
    "One of the file reading functions in pandas is CSV. Another one which we will need most of the time when communicating with APIs is JSON. A lot of different apps and software communicate via APIs which allows us to access certain functionalities and services from the API provider. Examples for this would be Revolut or N26.\n",
    "\n",
    "\n",
    "While normal websites return HTML/CSS/JavaScript etc. when you send an HTTP request, APIs return a json file with data you can then use."
   ]
  },
  {
   "cell_type": "markdown",
   "metadata": {},
   "source": [
    "**RESTFUL API**\n",
    "\n",
    "---\n",
    "Restful in the API world means you have the ability to use the full CRUD spectrum\n",
    "\n",
    "Example:\n",
    "```\n",
    "HTTP\n",
    "\n",
    "CRUD\n",
    "GET www.airbnb.com/flats            (read)\n",
    "GET www.airbnb.com/flats/:id        (read)\n",
    "POST www.airbnb.com/flats           (create)\n",
    "PUT www.airbnb.com/flats/:id        (modify)\n",
    "DELETE www.airbnb.com/flats/:id     (delete)\n",
    "```"
   ]
  },
  {
   "cell_type": "markdown",
   "metadata": {
    "tags": []
   },
   "source": [
    "### Metaweather API\n",
    "\n",
    "This is the API we will use in the example. Documentation is available [here](https://www.metaweather.com/api/).\n",
    "\n"
   ]
  },
  {
   "cell_type": "code",
   "execution_count": 12,
   "metadata": {},
   "outputs": [],
   "source": [
    "# WE need the request package for handling the API\n",
    "import requests"
   ]
  },
  {
   "cell_type": "code",
   "execution_count": 37,
   "metadata": {
    "tags": []
   },
   "outputs": [
    {
     "output_type": "stream",
     "name": "stdout",
     "text": "Here is the 6-day weather forecast for London\n\n\nDate: 2020-07-29\nTemperature: 21.3\nMax Temperature: 21.9\nMin Temperature: 14.9\nHumidity: 51\nWind Speed: 4.8\nPredictability: 71\n\n\nDate: 2020-07-30\nTemperature: 26.7\nMax Temperature: 29.1\nMin Temperature: 15.5\nHumidity: 36\nWind Speed: 3.5\nPredictability: 68\n\n\nDate: 2020-07-31\nTemperature: 31.6\nMax Temperature: 32.6\nMin Temperature: 19.7\nHumidity: 39\nWind Speed: 7.3\nPredictability: 71\n\n\nDate: 2020-08-01\nTemperature: 23.1\nMax Temperature: 25.5\nMin Temperature: 17.1\nHumidity: 56\nWind Speed: 6.9\nPredictability: 73\n\n\nDate: 2020-08-02\nTemperature: 22.3\nMax Temperature: 22.9\nMin Temperature: 14.9\nHumidity: 48\nWind Speed: 5.9\nPredictability: 70\n\n\nDate: 2020-08-03\nTemperature: 15.8\nMax Temperature: 18.9\nMin Temperature: 14.8\nHumidity: 76\nWind Speed: 5.2\nPredictability: 77\n\n\n"
    }
   ],
   "source": [
    "# First we need to ask the user for a city name for the weather search\n",
    "city = input('City: \\n').lower()\n",
    "\n",
    "# Then we assign the correct URLs\n",
    "base_url = 'https://www.metaweather.com/api/'\n",
    "location_url = f'location/search/?query={city}'\n",
    "\n",
    "# Then we need to call the API to get the specific id for the city (called woeid) and can also check the status to be sure we don't get an error\n",
    "response = requests.get(base_url + location_url)\n",
    "response.status_code\n",
    "\n",
    "# We assign the data to a variable and exract the city id\n",
    "data = response.json()\n",
    "\n",
    "# If there is no data found because the city is not available or wrongly spelled print that here while saving the necessary data\n",
    "try:\n",
    "    city_id = data[0]['woeid']\n",
    "    check = True\n",
    "except IndexError:\n",
    "    print(f'Unfortunately we could not fetch any data. Either {city} was not spelled correctly or we do not have it in our databse')\n",
    "    check = False\n",
    "\n",
    "if check:\n",
    "    # Then we call the API to get the weater data based on a new endpoint\n",
    "    weather_url = f'location/{city_id}'\n",
    "    response = requests.get(base_url + weather_url)\n",
    "    forecast = response.json()['consolidated_weather']\n",
    "\n",
    "    # Finally we display the data\n",
    "    print(f'Here is the 6-day weather forecast for {city.capitalize()}')\n",
    "    print('\\n')\n",
    "\n",
    "    for day in forecast:\n",
    "        print(f'Date: {day[\"applicable_date\"]}')\n",
    "        print(f'Temperature: {round(day[\"the_temp\"],1)}')\n",
    "        print(f'Max Temperature: {round(day[\"max_temp\"],1)}')\n",
    "        print(f'Min Temperature: {round(day[\"min_temp\"],1)}')\n",
    "        print(f'Humidity: {day[\"humidity\"]}')\n",
    "        print(f'Wind Speed: {round(day[\"wind_speed\"],1)}')\n",
    "        print(f'Predictability: {day[\"predictability\"]}')\n",
    "        print('\\n')\n"
   ]
  },
  {
   "cell_type": "code",
   "execution_count": null,
   "metadata": {},
   "outputs": [],
   "source": []
  }
 ],
 "metadata": {
  "language_info": {
   "codemirror_mode": {
    "name": "ipython",
    "version": 3
   },
   "file_extension": ".py",
   "mimetype": "text/x-python",
   "name": "python",
   "nbconvert_exporter": "python",
   "pygments_lexer": "ipython3",
   "version": 3
  },
  "orig_nbformat": 2,
  "kernelspec": {
   "name": "python_defaultSpec_1596055506154",
   "display_name": "Python 3.8.3 64-bit"
  }
 },
 "nbformat": 4,
 "nbformat_minor": 2
}